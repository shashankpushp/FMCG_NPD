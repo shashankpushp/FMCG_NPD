{
 "cells": [
  {
   "cell_type": "markdown",
   "id": "89f5f39c-0486-41ab-8737-c90f9a9fe8ee",
   "metadata": {},
   "source": [
    "# Importing Libraries"
   ]
  },
  {
   "cell_type": "code",
   "execution_count": 1,
   "id": "07be77e5-54db-47cd-9a2f-1d98c2f59677",
   "metadata": {},
   "outputs": [],
   "source": [
    "import pandas as pd\n",
    "import numpy as np"
   ]
  },
  {
   "cell_type": "markdown",
   "id": "de00fed1-33cd-4203-8940-dae464b227fa",
   "metadata": {},
   "source": [
    "# Reading Data from csv"
   ]
  },
  {
   "cell_type": "code",
   "execution_count": 2,
   "id": "b4d0d270-00c4-417d-830f-eaccdc122447",
   "metadata": {},
   "outputs": [],
   "source": [
    "df = pd.read_csv(\"C:/Users/10675048/OneDrive - LTIMindtree/CPG DOMAIN/Sample Data/NPD Data/NPD_Beverage_13_Months_Data_Regional_Hierarchy Data.csv\",encoding='latin-1')"
   ]
  },
  {
   "cell_type": "code",
   "execution_count": 3,
   "id": "c2df809b-3aab-4e4f-8037-cccfa94d7473",
   "metadata": {},
   "outputs": [
    {
     "data": {
      "text/plain": [
       "Index(['Date', 'MARKT_HIER_SHORT', 'MARKT_HIER_LONG', 'MARKT_HIER_NUM',\n",
       "       'MARKT_HIER_LEVEL_NUM', 'MARKT_HIER_LEVEL_NAME', 'PROD_HIER_SHORT',\n",
       "       'PROD_HIER_LEVEL_NUM', 'PROD_HIER_LEVEL_NAME', '1 CCF level 0',\n",
       "       'PACK SIZE', 'PRODUCT TYPE', 'MANUFACTURER', 'BRAND', 'SUB-BRAND',\n",
       "       'VARIANT', 'Prod_Variant_Hier', 'Units (in 1000 ITEM)',\n",
       "       'Volume (in 1000 KG)', 'Value (in 1000)',\n",
       "       'Share of Sales in Sellers in Eq. (w)', 'Weight. Distribution (w)',\n",
       "       'Price per Volume (in USD)', 'Price per Item (in USD)',\n",
       "       'Unweighted Rate of Sales Eq. (C)', 'Numeric Distribution Selling (C)',\n",
       "       'TDP.CAL'],\n",
       "      dtype='object')"
      ]
     },
     "execution_count": 3,
     "metadata": {},
     "output_type": "execute_result"
    }
   ],
   "source": [
    "df.head(5)\n",
    "df.describe\n",
    "df.columns\n",
    "#df.shape"
   ]
  },
  {
   "cell_type": "markdown",
   "id": "7c6e3de2-7459-4eaf-9cf9-2a7b1a863d7d",
   "metadata": {},
   "source": [
    "# Subsetting Data"
   ]
  },
  {
   "cell_type": "code",
   "execution_count": 4,
   "id": "8611b6d7-174f-4fb7-b672-55e1548722af",
   "metadata": {},
   "outputs": [
    {
     "data": {
      "text/html": [
       "<div>\n",
       "<style scoped>\n",
       "    .dataframe tbody tr th:only-of-type {\n",
       "        vertical-align: middle;\n",
       "    }\n",
       "\n",
       "    .dataframe tbody tr th {\n",
       "        vertical-align: top;\n",
       "    }\n",
       "\n",
       "    .dataframe thead th {\n",
       "        text-align: right;\n",
       "    }\n",
       "</style>\n",
       "<table border=\"1\" class=\"dataframe\">\n",
       "  <thead>\n",
       "    <tr style=\"text-align: right;\">\n",
       "      <th></th>\n",
       "      <th>Date</th>\n",
       "      <th>MARKT_HIER_LONG</th>\n",
       "      <th>MARKT_HIER_LEVEL_NAME</th>\n",
       "      <th>PRODUCT TYPE</th>\n",
       "      <th>MANUFACTURER</th>\n",
       "      <th>BRAND</th>\n",
       "      <th>SUB-BRAND</th>\n",
       "      <th>VARIANT</th>\n",
       "      <th>Prod_Variant_Hier</th>\n",
       "      <th>Units (in 1000 ITEM)</th>\n",
       "      <th>Volume (in 1000 KG)</th>\n",
       "      <th>Value (in 1000)</th>\n",
       "    </tr>\n",
       "  </thead>\n",
       "  <tbody>\n",
       "    <tr>\n",
       "      <th>0</th>\n",
       "      <td>01-08-2021</td>\n",
       "      <td>TOTAL WEST - OTHER WEST PROVINCE 1</td>\n",
       "      <td>FMCG PROVINCE 1 / PROVINCE 2</td>\n",
       "      <td>Carbonated Soft Drinks</td>\n",
       "      <td>Coco-Cool</td>\n",
       "      <td>Coco-Cool</td>\n",
       "      <td>prite</td>\n",
       "      <td>Regular</td>\n",
       "      <td>Carbonated Soft Drinks_Regular</td>\n",
       "      <td>4</td>\n",
       "      <td>0</td>\n",
       "      <td>72</td>\n",
       "    </tr>\n",
       "  </tbody>\n",
       "</table>\n",
       "</div>"
      ],
      "text/plain": [
       "         Date                     MARKT_HIER_LONG  \\\n",
       "0  01-08-2021  TOTAL WEST - OTHER WEST PROVINCE 1   \n",
       "\n",
       "          MARKT_HIER_LEVEL_NAME             PRODUCT TYPE MANUFACTURER  \\\n",
       "0  FMCG PROVINCE 1 / PROVINCE 2   Carbonated Soft Drinks    Coco-Cool   \n",
       "\n",
       "       BRAND SUB-BRAND  VARIANT               Prod_Variant_Hier  \\\n",
       "0  Coco-Cool     prite  Regular  Carbonated Soft Drinks_Regular   \n",
       "\n",
       "   Units (in 1000 ITEM)  Volume (in 1000 KG)  Value (in 1000)  \n",
       "0                     4                    0               72  "
      ]
     },
     "execution_count": 4,
     "metadata": {},
     "output_type": "execute_result"
    }
   ],
   "source": [
    "data = df[['Date', 'MARKT_HIER_LONG','MARKT_HIER_LEVEL_NAME', 'PRODUCT TYPE', 'MANUFACTURER', 'BRAND', 'SUB-BRAND',\n",
    "       'VARIANT', 'Prod_Variant_Hier', 'Units (in 1000 ITEM)',\n",
    "       'Volume (in 1000 KG)', 'Value (in 1000)']]\n",
    "data.head(1)\n",
    "\n",
    "#data.to_csv(\"C:/Users/10675048/OneDrive - LTIMindtree/CPG DOMAIN/Sample Data/NPD Data/data.csv\")"
   ]
  },
  {
   "cell_type": "code",
   "execution_count": 5,
   "id": "24271559-f227-4ba0-89c5-22a43d4cbbee",
   "metadata": {},
   "outputs": [
    {
     "data": {
      "text/plain": [
       "0"
      ]
     },
     "execution_count": 5,
     "metadata": {},
     "output_type": "execute_result"
    }
   ],
   "source": [
    "nan_count = data.isnull().sum().sum()\n",
    "nan_count"
   ]
  },
  {
   "cell_type": "markdown",
   "id": "3d09c019-514d-459f-8969-3286d1fb6148",
   "metadata": {},
   "source": [
    "# Sort the dataframe by 'Dates' and 'Product Type'"
   ]
  },
  {
   "cell_type": "code",
   "execution_count": 6,
   "id": "ed5e2d6b-4117-421d-baa2-d24c472c95b1",
   "metadata": {},
   "outputs": [
    {
     "data": {
      "text/html": [
       "<div>\n",
       "<style scoped>\n",
       "    .dataframe tbody tr th:only-of-type {\n",
       "        vertical-align: middle;\n",
       "    }\n",
       "\n",
       "    .dataframe tbody tr th {\n",
       "        vertical-align: top;\n",
       "    }\n",
       "\n",
       "    .dataframe thead th {\n",
       "        text-align: right;\n",
       "    }\n",
       "</style>\n",
       "<table border=\"1\" class=\"dataframe\">\n",
       "  <thead>\n",
       "    <tr style=\"text-align: right;\">\n",
       "      <th></th>\n",
       "      <th>Date</th>\n",
       "      <th>MARKT_HIER_LONG</th>\n",
       "      <th>MARKT_HIER_LEVEL_NAME</th>\n",
       "      <th>PRODUCT TYPE</th>\n",
       "      <th>MANUFACTURER</th>\n",
       "      <th>BRAND</th>\n",
       "      <th>SUB-BRAND</th>\n",
       "      <th>VARIANT</th>\n",
       "      <th>Prod_Variant_Hier</th>\n",
       "      <th>Units (in 1000 ITEM)</th>\n",
       "      <th>Volume (in 1000 KG)</th>\n",
       "      <th>Value (in 1000)</th>\n",
       "    </tr>\n",
       "  </thead>\n",
       "  <tbody>\n",
       "    <tr>\n",
       "      <th>4232</th>\n",
       "      <td>01-01-2022</td>\n",
       "      <td>TOTAL WEST - OTHER WEST PROVINCE 2</td>\n",
       "      <td>FMCG PROVINCE 1 / PROVINCE 2</td>\n",
       "      <td>Alcoholic Beverages</td>\n",
       "      <td>Anheuser-Buch Bev</td>\n",
       "      <td>Michebob Ultra</td>\n",
       "      <td>Michebob Ultra Lime Cactus</td>\n",
       "      <td>Regular</td>\n",
       "      <td>Alcoholic Beverages _Regular</td>\n",
       "      <td>60</td>\n",
       "      <td>5</td>\n",
       "      <td>930</td>\n",
       "    </tr>\n",
       "  </tbody>\n",
       "</table>\n",
       "</div>"
      ],
      "text/plain": [
       "            Date                     MARKT_HIER_LONG  \\\n",
       "4232  01-01-2022  TOTAL WEST - OTHER WEST PROVINCE 2   \n",
       "\n",
       "             MARKT_HIER_LEVEL_NAME              PRODUCT TYPE  \\\n",
       "4232  FMCG PROVINCE 1 / PROVINCE 2   Alcoholic Beverages       \n",
       "\n",
       "           MANUFACTURER           BRAND                   SUB-BRAND  VARIANT  \\\n",
       "4232  Anheuser-Buch Bev  Michebob Ultra  Michebob Ultra Lime Cactus  Regular   \n",
       "\n",
       "                 Prod_Variant_Hier  Units (in 1000 ITEM)  Volume (in 1000 KG)  \\\n",
       "4232  Alcoholic Beverages _Regular                    60                    5   \n",
       "\n",
       "      Value (in 1000)  \n",
       "4232              930  "
      ]
     },
     "execution_count": 6,
     "metadata": {},
     "output_type": "execute_result"
    }
   ],
   "source": [
    "data = data.sort_values(by=['PRODUCT TYPE', 'MANUFACTURER','BRAND','SUB-BRAND','VARIANT','Prod_Variant_Hier','Date'])\n",
    "data.head(1)"
   ]
  },
  {
   "cell_type": "code",
   "execution_count": 7,
   "id": "0bca3fad-681f-456c-97e7-28adfe28db5a",
   "metadata": {},
   "outputs": [
    {
     "data": {
      "text/html": [
       "<div>\n",
       "<style scoped>\n",
       "    .dataframe tbody tr th:only-of-type {\n",
       "        vertical-align: middle;\n",
       "    }\n",
       "\n",
       "    .dataframe tbody tr th {\n",
       "        vertical-align: top;\n",
       "    }\n",
       "\n",
       "    .dataframe thead th {\n",
       "        text-align: right;\n",
       "    }\n",
       "</style>\n",
       "<table border=\"1\" class=\"dataframe\">\n",
       "  <thead>\n",
       "    <tr style=\"text-align: right;\">\n",
       "      <th></th>\n",
       "      <th>MARKT_HIER_LONG</th>\n",
       "      <th>MARKT_HIER_LEVEL_NAME</th>\n",
       "      <th>PRODUCT TYPE</th>\n",
       "      <th>MANUFACTURER</th>\n",
       "      <th>BRAND</th>\n",
       "      <th>SUB-BRAND</th>\n",
       "      <th>VARIANT</th>\n",
       "      <th>Prod_Variant_Hier</th>\n",
       "      <th>Date</th>\n",
       "      <th>Units (in 1000 ITEM)</th>\n",
       "      <th>Volume (in 1000 KG)</th>\n",
       "      <th>Value (in 1000)</th>\n",
       "    </tr>\n",
       "  </thead>\n",
       "  <tbody>\n",
       "    <tr>\n",
       "      <th>0</th>\n",
       "      <td>TOTAL WEST - OTHER WEST PROVINCE 1</td>\n",
       "      <td>FMCG PROVINCE 1 / PROVINCE 2</td>\n",
       "      <td>Alcoholic Beverages</td>\n",
       "      <td>Feineken</td>\n",
       "      <td>Amstel Hard</td>\n",
       "      <td>Amstel Hard Bier</td>\n",
       "      <td>Regular</td>\n",
       "      <td>Alcoholic Beverages _Regular</td>\n",
       "      <td>01-01-2022</td>\n",
       "      <td>1552</td>\n",
       "      <td>155</td>\n",
       "      <td>16147</td>\n",
       "    </tr>\n",
       "    <tr>\n",
       "      <th>1</th>\n",
       "      <td>TOTAL WEST - OTHER WEST PROVINCE 1</td>\n",
       "      <td>FMCG PROVINCE 1 / PROVINCE 2</td>\n",
       "      <td>Alcoholic Beverages</td>\n",
       "      <td>Feineken</td>\n",
       "      <td>Amstel Hard</td>\n",
       "      <td>Amstel Hard Bier</td>\n",
       "      <td>Regular</td>\n",
       "      <td>Alcoholic Beverages _Regular</td>\n",
       "      <td>01-02-2022</td>\n",
       "      <td>1635</td>\n",
       "      <td>163</td>\n",
       "      <td>16685</td>\n",
       "    </tr>\n",
       "    <tr>\n",
       "      <th>2</th>\n",
       "      <td>TOTAL WEST - OTHER WEST PROVINCE 1</td>\n",
       "      <td>FMCG PROVINCE 1 / PROVINCE 2</td>\n",
       "      <td>Alcoholic Beverages</td>\n",
       "      <td>Feineken</td>\n",
       "      <td>Amstel Hard</td>\n",
       "      <td>Amstel Hard Bier</td>\n",
       "      <td>Regular</td>\n",
       "      <td>Alcoholic Beverages _Regular</td>\n",
       "      <td>01-03-2022</td>\n",
       "      <td>2790</td>\n",
       "      <td>279</td>\n",
       "      <td>28161</td>\n",
       "    </tr>\n",
       "  </tbody>\n",
       "</table>\n",
       "</div>"
      ],
      "text/plain": [
       "                      MARKT_HIER_LONG         MARKT_HIER_LEVEL_NAME  \\\n",
       "0  TOTAL WEST - OTHER WEST PROVINCE 1  FMCG PROVINCE 1 / PROVINCE 2   \n",
       "1  TOTAL WEST - OTHER WEST PROVINCE 1  FMCG PROVINCE 1 / PROVINCE 2   \n",
       "2  TOTAL WEST - OTHER WEST PROVINCE 1  FMCG PROVINCE 1 / PROVINCE 2   \n",
       "\n",
       "               PRODUCT TYPE MANUFACTURER        BRAND         SUB-BRAND  \\\n",
       "0   Alcoholic Beverages         Feineken  Amstel Hard  Amstel Hard Bier   \n",
       "1   Alcoholic Beverages         Feineken  Amstel Hard  Amstel Hard Bier   \n",
       "2   Alcoholic Beverages         Feineken  Amstel Hard  Amstel Hard Bier   \n",
       "\n",
       "   VARIANT             Prod_Variant_Hier        Date  Units (in 1000 ITEM)  \\\n",
       "0  Regular  Alcoholic Beverages _Regular  01-01-2022                  1552   \n",
       "1  Regular  Alcoholic Beverages _Regular  01-02-2022                  1635   \n",
       "2  Regular  Alcoholic Beverages _Regular  01-03-2022                  2790   \n",
       "\n",
       "   Volume (in 1000 KG)  Value (in 1000)  \n",
       "0                  155            16147  \n",
       "1                  163            16685  \n",
       "2                  279            28161  "
      ]
     },
     "execution_count": 7,
     "metadata": {},
     "output_type": "execute_result"
    }
   ],
   "source": [
    "data = data.groupby(['MARKT_HIER_LONG','MARKT_HIER_LEVEL_NAME','PRODUCT TYPE','MANUFACTURER','BRAND','SUB-BRAND','VARIANT','Prod_Variant_Hier','Date']).agg({'Units (in 1000 ITEM)': 'sum',\n",
    "    'Volume (in 1000 KG)' : 'sum', 'Value (in 1000)': 'sum'}).reset_index()\n",
    "#current_time = pd.Timestamp.now().strftime('%d-%m-%Y %H_%M_%S')\n",
    "\n",
    "data.head(3)\n",
    "#data.to_csv(f\"C:/Users/10675048/OneDrive - LTIMindtree/CPG DOMAIN/Sample Data/NPD Data/data_{current_time}.csv\")"
   ]
  },
  {
   "cell_type": "code",
   "execution_count": 34,
   "id": "360b90b3-f481-4339-b2f3-2e2a8e49ffea",
   "metadata": {},
   "outputs": [
    {
     "data": {
      "text/html": [
       "<div>\n",
       "<style scoped>\n",
       "    .dataframe tbody tr th:only-of-type {\n",
       "        vertical-align: middle;\n",
       "    }\n",
       "\n",
       "    .dataframe tbody tr th {\n",
       "        vertical-align: top;\n",
       "    }\n",
       "\n",
       "    .dataframe thead th {\n",
       "        text-align: right;\n",
       "    }\n",
       "</style>\n",
       "<table border=\"1\" class=\"dataframe\">\n",
       "  <thead>\n",
       "    <tr style=\"text-align: right;\">\n",
       "      <th></th>\n",
       "      <th>Units (in 1000 ITEM)</th>\n",
       "      <th>Volume (in 1000 KG)</th>\n",
       "      <th>Value (in 1000)</th>\n",
       "    </tr>\n",
       "  </thead>\n",
       "  <tbody>\n",
       "    <tr>\n",
       "      <th>0</th>\n",
       "      <td>1552</td>\n",
       "      <td>155</td>\n",
       "      <td>16147</td>\n",
       "    </tr>\n",
       "    <tr>\n",
       "      <th>1</th>\n",
       "      <td>1635</td>\n",
       "      <td>163</td>\n",
       "      <td>16685</td>\n",
       "    </tr>\n",
       "    <tr>\n",
       "      <th>2</th>\n",
       "      <td>2790</td>\n",
       "      <td>279</td>\n",
       "      <td>28161</td>\n",
       "    </tr>\n",
       "    <tr>\n",
       "      <th>3</th>\n",
       "      <td>2548</td>\n",
       "      <td>255</td>\n",
       "      <td>25391</td>\n",
       "    </tr>\n",
       "    <tr>\n",
       "      <th>4</th>\n",
       "      <td>2352</td>\n",
       "      <td>235</td>\n",
       "      <td>24472</td>\n",
       "    </tr>\n",
       "    <tr>\n",
       "      <th>5</th>\n",
       "      <td>3136</td>\n",
       "      <td>314</td>\n",
       "      <td>32604</td>\n",
       "    </tr>\n",
       "    <tr>\n",
       "      <th>6</th>\n",
       "      <td>1295</td>\n",
       "      <td>130</td>\n",
       "      <td>13188</td>\n",
       "    </tr>\n",
       "    <tr>\n",
       "      <th>7</th>\n",
       "      <td>2508</td>\n",
       "      <td>251</td>\n",
       "      <td>23197</td>\n",
       "    </tr>\n",
       "    <tr>\n",
       "      <th>8</th>\n",
       "      <td>2062</td>\n",
       "      <td>206</td>\n",
       "      <td>20134</td>\n",
       "    </tr>\n",
       "    <tr>\n",
       "      <th>9</th>\n",
       "      <td>1286</td>\n",
       "      <td>129</td>\n",
       "      <td>13454</td>\n",
       "    </tr>\n",
       "  </tbody>\n",
       "</table>\n",
       "</div>"
      ],
      "text/plain": [
       "   Units (in 1000 ITEM)  Volume (in 1000 KG)  Value (in 1000)\n",
       "0                  1552                  155            16147\n",
       "1                  1635                  163            16685\n",
       "2                  2790                  279            28161\n",
       "3                  2548                  255            25391\n",
       "4                  2352                  235            24472\n",
       "5                  3136                  314            32604\n",
       "6                  1295                  130            13188\n",
       "7                  2508                  251            23197\n",
       "8                  2062                  206            20134\n",
       "9                  1286                  129            13454"
      ]
     },
     "execution_count": 34,
     "metadata": {},
     "output_type": "execute_result"
    }
   ],
   "source": []
  },
  {
   "cell_type": "markdown",
   "id": "0654ade9-43ff-4d6c-afaf-72dcf128408e",
   "metadata": {},
   "source": [
    "# Grouping Data frame By Market & Product "
   ]
  },
  {
   "cell_type": "code",
   "execution_count": 13,
   "id": "bd3dd639-53b7-436a-8aa9-386275120231",
   "metadata": {},
   "outputs": [
    {
     "name": "stdout",
     "output_type": "stream",
     "text": [
      "<pandas.core.groupby.generic.DataFrameGroupBy object at 0x000001CCBD7334D0>\n"
     ]
    }
   ],
   "source": [
    "grouped = data.groupby(['MARKT_HIER_LONG','MARKT_HIER_LEVEL_NAME','PRODUCT TYPE','MANUFACTURER','BRAND','SUB-BRAND','VARIANT','Prod_Variant_Hier'])\n",
    "print(grouped)"
   ]
  },
  {
   "cell_type": "code",
   "execution_count": 9,
   "id": "248bdeba-9531-4d58-a776-230a82402006",
   "metadata": {},
   "outputs": [
    {
     "data": {
      "text/plain": [
       "0       TOTAL WEST - OTHER WEST PROVINCE 1FMCG PROVINC...\n",
       "1       TOTAL WEST - OTHER WEST PROVINCE 1FMCG PROVINC...\n",
       "2       TOTAL WEST - OTHER WEST PROVINCE 1FMCG PROVINC...\n",
       "3       TOTAL WEST - OTHER WEST PROVINCE 1FMCG PROVINC...\n",
       "4       TOTAL WEST - OTHER WEST PROVINCE 1FMCG PROVINC...\n",
       "                              ...                        \n",
       "3325    TOTAL WEST - OTHER WEST PROVINCE 2FMCG PROVINC...\n",
       "3326    TOTAL WEST - OTHER WEST PROVINCE 2FMCG PROVINC...\n",
       "3327    TOTAL WEST - OTHER WEST PROVINCE 2FMCG PROVINC...\n",
       "3328    TOTAL WEST - OTHER WEST PROVINCE 2FMCG PROVINC...\n",
       "3329    TOTAL WEST - OTHER WEST PROVINCE 2FMCG PROVINC...\n",
       "Name: variant_combo, Length: 3330, dtype: object"
      ]
     },
     "execution_count": 9,
     "metadata": {},
     "output_type": "execute_result"
    }
   ],
   "source": [
    "data['variant_combo'] = data['MARKT_HIER_LONG']+data['MARKT_HIER_LEVEL_NAME']+data['PRODUCT TYPE']+data['MANUFACTURER']+data['BRAND']+data['SUB-BRAND']+data['VARIANT'].str.strip()\n",
    "data['variant_combo']"
   ]
  },
  {
   "cell_type": "code",
   "execution_count": 8,
   "id": "aa3d4670-52ce-4408-a298-74a5d8d1b502",
   "metadata": {},
   "outputs": [
    {
     "data": {
      "text/html": [
       "<div>\n",
       "<style scoped>\n",
       "    .dataframe tbody tr th:only-of-type {\n",
       "        vertical-align: middle;\n",
       "    }\n",
       "\n",
       "    .dataframe tbody tr th {\n",
       "        vertical-align: top;\n",
       "    }\n",
       "\n",
       "    .dataframe thead th {\n",
       "        text-align: right;\n",
       "    }\n",
       "</style>\n",
       "<table border=\"1\" class=\"dataframe\">\n",
       "  <thead>\n",
       "    <tr style=\"text-align: right;\">\n",
       "      <th></th>\n",
       "      <th>key</th>\n",
       "      <th>Date</th>\n",
       "    </tr>\n",
       "  </thead>\n",
       "  <tbody>\n",
       "    <tr>\n",
       "      <th>0</th>\n",
       "      <td>TOTAL WEST - OTHER WEST PROVINCE 1FMCG PROVINC...</td>\n",
       "      <td>01-01-2022</td>\n",
       "    </tr>\n",
       "    <tr>\n",
       "      <th>13</th>\n",
       "      <td>TOTAL WEST - OTHER WEST PROVINCE 1FMCG PROVINC...</td>\n",
       "      <td>01-01-2022</td>\n",
       "    </tr>\n",
       "    <tr>\n",
       "      <th>26</th>\n",
       "      <td>TOTAL WEST - OTHER WEST PROVINCE 1FMCG PROVINC...</td>\n",
       "      <td>01-01-2022</td>\n",
       "    </tr>\n",
       "    <tr>\n",
       "      <th>39</th>\n",
       "      <td>TOTAL WEST - OTHER WEST PROVINCE 1FMCG PROVINC...</td>\n",
       "      <td>01-01-2022</td>\n",
       "    </tr>\n",
       "    <tr>\n",
       "      <th>52</th>\n",
       "      <td>TOTAL WEST - OTHER WEST PROVINCE 1FMCG PROVINC...</td>\n",
       "      <td>01-01-2022</td>\n",
       "    </tr>\n",
       "    <tr>\n",
       "      <th>...</th>\n",
       "      <td>...</td>\n",
       "      <td>...</td>\n",
       "    </tr>\n",
       "    <tr>\n",
       "      <th>3281</th>\n",
       "      <td>TOTAL WEST - OTHER WEST PROVINCE 2FMCG PROVINC...</td>\n",
       "      <td>01-12-2021</td>\n",
       "    </tr>\n",
       "    <tr>\n",
       "      <th>3298</th>\n",
       "      <td>TOTAL WEST - OTHER WEST PROVINCE 2FMCG PROVINC...</td>\n",
       "      <td>01-12-2021</td>\n",
       "    </tr>\n",
       "    <tr>\n",
       "      <th>3255</th>\n",
       "      <td>TOTAL WEST - OTHER WEST PROVINCE 2FMCG PROVINC...</td>\n",
       "      <td>01-12-2021</td>\n",
       "    </tr>\n",
       "    <tr>\n",
       "      <th>3329</th>\n",
       "      <td>TOTAL WEST - OTHER WEST PROVINCE 2FMCG PROVINC...</td>\n",
       "      <td>01-12-2021</td>\n",
       "    </tr>\n",
       "    <tr>\n",
       "      <th>3311</th>\n",
       "      <td>TOTAL WEST - OTHER WEST PROVINCE 2FMCG PROVINC...</td>\n",
       "      <td>01-12-2021</td>\n",
       "    </tr>\n",
       "  </tbody>\n",
       "</table>\n",
       "<p>3330 rows × 2 columns</p>\n",
       "</div>"
      ],
      "text/plain": [
       "                                                    key        Date\n",
       "0     TOTAL WEST - OTHER WEST PROVINCE 1FMCG PROVINC...  01-01-2022\n",
       "13    TOTAL WEST - OTHER WEST PROVINCE 1FMCG PROVINC...  01-01-2022\n",
       "26    TOTAL WEST - OTHER WEST PROVINCE 1FMCG PROVINC...  01-01-2022\n",
       "39    TOTAL WEST - OTHER WEST PROVINCE 1FMCG PROVINC...  01-01-2022\n",
       "52    TOTAL WEST - OTHER WEST PROVINCE 1FMCG PROVINC...  01-01-2022\n",
       "...                                                 ...         ...\n",
       "3281  TOTAL WEST - OTHER WEST PROVINCE 2FMCG PROVINC...  01-12-2021\n",
       "3298  TOTAL WEST - OTHER WEST PROVINCE 2FMCG PROVINC...  01-12-2021\n",
       "3255  TOTAL WEST - OTHER WEST PROVINCE 2FMCG PROVINC...  01-12-2021\n",
       "3329  TOTAL WEST - OTHER WEST PROVINCE 2FMCG PROVINC...  01-12-2021\n",
       "3311  TOTAL WEST - OTHER WEST PROVINCE 2FMCG PROVINC...  01-12-2021\n",
       "\n",
       "[3330 rows x 2 columns]"
      ]
     },
     "execution_count": 8,
     "metadata": {},
     "output_type": "execute_result"
    }
   ],
   "source": [
    "data = data.sort_values(by=['Date','key'])\n",
    "\n",
    "data[['key','Date']]"
   ]
  },
  {
   "cell_type": "code",
   "execution_count": 13,
   "id": "9fd28815-0d01-4bf6-b06a-c2245db133ca",
   "metadata": {},
   "outputs": [
    {
     "name": "stdout",
     "output_type": "stream",
     "text": [
      "<pandas.core.groupby.generic.DataFrameGroupBy object at 0x0000016BA2049B50>\n"
     ]
    }
   ],
   "source": [
    "grouped = data.groupby(['key'])\n",
    "print(grouped)"
   ]
  },
  {
   "cell_type": "code",
   "execution_count": 14,
   "id": "5c4d1ca5-4b57-493f-9270-7f5ff6d1cc7b",
   "metadata": {},
   "outputs": [
    {
     "name": "stdout",
     "output_type": "stream",
     "text": [
      "                         MARKT_HIER_LONG         MARKT_HIER_LEVEL_NAME  \\\n",
      "0     TOTAL WEST - OTHER WEST PROVINCE 1  FMCG PROVINCE 1 / PROVINCE 2   \n",
      "1     TOTAL WEST - OTHER WEST PROVINCE 1  FMCG PROVINCE 1 / PROVINCE 2   \n",
      "2     TOTAL WEST - OTHER WEST PROVINCE 1  FMCG PROVINCE 1 / PROVINCE 2   \n",
      "3     TOTAL WEST - OTHER WEST PROVINCE 1  FMCG PROVINCE 1 / PROVINCE 2   \n",
      "4     TOTAL WEST - OTHER WEST PROVINCE 1  FMCG PROVINCE 1 / PROVINCE 2   \n",
      "...                                  ...                           ...   \n",
      "3307  TOTAL WEST - OTHER WEST PROVINCE 2  FMCG PROVINCE 1 / PROVINCE 2   \n",
      "3308  TOTAL WEST - OTHER WEST PROVINCE 2  FMCG PROVINCE 1 / PROVINCE 2   \n",
      "3309  TOTAL WEST - OTHER WEST PROVINCE 2  FMCG PROVINCE 1 / PROVINCE 2   \n",
      "3310  TOTAL WEST - OTHER WEST PROVINCE 2  FMCG PROVINCE 1 / PROVINCE 2   \n",
      "3311  TOTAL WEST - OTHER WEST PROVINCE 2  FMCG PROVINCE 1 / PROVINCE 2   \n",
      "\n",
      "                  PRODUCT TYPE MANUFACTURER        BRAND         SUB-BRAND  \\\n",
      "0      Alcoholic Beverages         Feineken  Amstel Hard  Amstel Hard Bier   \n",
      "1      Alcoholic Beverages         Feineken  Amstel Hard  Amstel Hard Bier   \n",
      "2      Alcoholic Beverages         Feineken  Amstel Hard  Amstel Hard Bier   \n",
      "3      Alcoholic Beverages         Feineken  Amstel Hard  Amstel Hard Bier   \n",
      "4      Alcoholic Beverages         Feineken  Amstel Hard  Amstel Hard Bier   \n",
      "...                        ...          ...          ...               ...   \n",
      "3307   Tea                           Tipton       Tipton            Tipton   \n",
      "3308   Tea                           Tipton       Tipton            Tipton   \n",
      "3309   Tea                           Tipton       Tipton            Tipton   \n",
      "3310   Tea                           Tipton       Tipton            Tipton   \n",
      "3311   Tea                           Tipton       Tipton            Tipton   \n",
      "\n",
      "      VARIANT             Prod_Variant_Hier        Date  Units (in 1000 ITEM)  \\\n",
      "0     Regular  Alcoholic Beverages _Regular  01-01-2022                  1552   \n",
      "1     Regular  Alcoholic Beverages _Regular  01-02-2022                  1635   \n",
      "2     Regular  Alcoholic Beverages _Regular  01-03-2022                  2790   \n",
      "3     Regular  Alcoholic Beverages _Regular  01-04-2022                  2548   \n",
      "4     Regular  Alcoholic Beverages _Regular  01-05-2021                  2352   \n",
      "...       ...                           ...         ...                   ...   \n",
      "3307     Diet                     Tea _Diet  01-08-2021                  6427   \n",
      "3308     Diet                     Tea _Diet  01-09-2021                  4040   \n",
      "3309     Diet                     Tea _Diet  01-10-2021                  6651   \n",
      "3310     Diet                     Tea _Diet  01-11-2021                  6127   \n",
      "3311     Diet                     Tea _Diet  01-12-2021                  7679   \n",
      "\n",
      "      ...  Volume_rolling_1M  Value_rolling_2M Units_rolling_2M  \\\n",
      "0     ...              155.0           16147.0           1552.0   \n",
      "1     ...              163.0           32832.0           3187.0   \n",
      "2     ...              279.0           44846.0           4425.0   \n",
      "3     ...              255.0           53552.0           5338.0   \n",
      "4     ...              235.0           49863.0           4900.0   \n",
      "...   ...                ...               ...              ...   \n",
      "3307  ...              392.0           73334.0           3987.0   \n",
      "3308  ...              287.0           80430.0           4526.0   \n",
      "3309  ...              360.0           66767.0           4311.0   \n",
      "3310  ...               53.0           42386.0           2751.0   \n",
      "3311  ...              239.0           32564.0           1949.0   \n",
      "\n",
      "      Volume_rolling_2M  Value_rolling_3M  Units_rolling_3M  \\\n",
      "0                 155.0           16147.0            1552.0   \n",
      "1                 318.0           32832.0            3187.0   \n",
      "2                 442.0           60993.0            5977.0   \n",
      "3                 534.0           70237.0            6973.0   \n",
      "4                 490.0           78024.0            7690.0   \n",
      "...                 ...               ...               ...   \n",
      "3307              598.0          106039.0            5875.0   \n",
      "3308              679.0          104054.0            5901.0   \n",
      "3309              647.0          116477.0            6923.0   \n",
      "3310              413.0           73106.0            4665.0   \n",
      "3311              292.0           68611.0            4346.0   \n",
      "\n",
      "      Volume_rolling_3M  Value_rolling_4M  Units_rolling_4M  Volume_rolling_4M  \n",
      "0                 155.0           16147.0            1552.0              155.0  \n",
      "1                 318.0           32832.0            3187.0              318.0  \n",
      "2                 597.0           60993.0            5977.0              597.0  \n",
      "3                 697.0           86384.0            8525.0              852.0  \n",
      "4                 769.0           94709.0            9325.0              932.0  \n",
      "...                 ...               ...               ...                ...  \n",
      "3307              881.0          133677.0            7410.0             1111.0  \n",
      "3308              885.0          136759.0            7789.0             1168.0  \n",
      "3309             1039.0          140101.0            8298.0             1245.0  \n",
      "3310              700.0          122816.0            7277.0             1092.0  \n",
      "3311              652.0           99331.0            6260.0              939.0  \n",
      "\n",
      "[3330 rows x 25 columns]\n"
     ]
    }
   ],
   "source": [
    "# Create a new column 'rolling_1M' to store the rolling 1-month sales, voulume and unit\n",
    "data['Value_rolling_1M'] = grouped['Value (in 1000)'].rolling(window=1,min_periods=1).sum().reset_index(drop=True)\n",
    "data['Units_rolling_1M'] = grouped['Units (in 1000 ITEM)'].rolling(window=1,min_periods=1).sum().reset_index(drop=True)\n",
    "data['Volume_rolling_1M'] = grouped['Volume (in 1000 KG)'].rolling(window=1,min_periods=1).sum().reset_index(drop=True)\n",
    "\n",
    "# Create a new column 'rolling_2M' to store the rolling 2-month sales, voulume and unit\n",
    "\n",
    "data['Value_rolling_2M'] = grouped['Value (in 1000)'].rolling(window=2,min_periods=1).sum().reset_index(drop=True)\n",
    "data['Units_rolling_2M'] = grouped['Units (in 1000 ITEM)'].rolling(window=2,min_periods=1).sum().reset_index(drop=True)\n",
    "data['Volume_rolling_2M'] = grouped['Volume (in 1000 KG)'].rolling(window=2,min_periods=1).sum().reset_index(drop=True)\n",
    "\n",
    "# Create a new column 'rolling_3M' to store the rolling 3-month sales, voulume and unit\n",
    "data['Value_rolling_3M'] = grouped['Value (in 1000)'].rolling(window=3,min_periods=1).sum().reset_index(drop=True)\n",
    "data['Units_rolling_3M'] = grouped['Units (in 1000 ITEM)'].rolling(window=3,min_periods=1).sum().reset_index(drop=True)\n",
    "data['Volume_rolling_3M'] = grouped['Volume (in 1000 KG)'].rolling(window=3,min_periods=1).sum().reset_index(drop=True)\n",
    "\n",
    "# Create a new column 'rolling_4M' to store the rolling 4-month sales, voulume and unit\n",
    "data['Value_rolling_4M'] = grouped['Value (in 1000)'].rolling(window=4,min_periods=1).sum().reset_index(drop=True)\n",
    "data['Units_rolling_4M'] = grouped['Units (in 1000 ITEM)'].rolling(window=4,min_periods=1).sum().reset_index(drop=True)\n",
    "data['Volume_rolling_4M'] = grouped['Volume (in 1000 KG)'].rolling(window=4,min_periods=1).sum().reset_index(drop=True)\n",
    "\n",
    "# Display the updated dataframe\n",
    "print(data)\n",
    "\n",
    "data.to_csv(\"C:/Users/10675048/OneDrive - LTIMindtree/CPG DOMAIN/Sample Data/NPD Data/rolling_months_data1.csv\")"
   ]
  },
  {
   "cell_type": "markdown",
   "id": "cf6b6e38-3969-47d9-9c50-00f9453284e0",
   "metadata": {},
   "source": [
    "# Experiment"
   ]
  },
  {
   "cell_type": "code",
   "execution_count": 11,
   "id": "c6c07d2a-b0b6-4dd8-8ee3-92623fe616ac",
   "metadata": {},
   "outputs": [
    {
     "ename": "ValueError",
     "evalue": "All arrays must be of the same length",
     "output_type": "error",
     "traceback": [
      "\u001b[1;31m---------------------------------------------------------------------------\u001b[0m",
      "\u001b[1;31mValueError\u001b[0m                                Traceback (most recent call last)",
      "Cell \u001b[1;32mIn[11], line 12\u001b[0m\n\u001b[0;32m      3\u001b[0m \u001b[38;5;66;03m# Sample data\u001b[39;00m\n\u001b[0;32m      4\u001b[0m data \u001b[38;5;241m=\u001b[39m {\n\u001b[0;32m      5\u001b[0m     \u001b[38;5;124m'\u001b[39m\u001b[38;5;124mvariantcombo\u001b[39m\u001b[38;5;124m'\u001b[39m: [\u001b[38;5;124m'\u001b[39m\u001b[38;5;124ma1\u001b[39m\u001b[38;5;124m'\u001b[39m, \u001b[38;5;124m'\u001b[39m\u001b[38;5;124ma1\u001b[39m\u001b[38;5;124m'\u001b[39m, \u001b[38;5;124m'\u001b[39m\u001b[38;5;124ma1\u001b[39m\u001b[38;5;124m'\u001b[39m, \u001b[38;5;124m'\u001b[39m\u001b[38;5;124ma1\u001b[39m\u001b[38;5;124m'\u001b[39m, \u001b[38;5;124m'\u001b[39m\u001b[38;5;124ma1\u001b[39m\u001b[38;5;124m'\u001b[39m, \u001b[38;5;124m'\u001b[39m\u001b[38;5;124ma1\u001b[39m\u001b[38;5;124m'\u001b[39m, \u001b[38;5;124m'\u001b[39m\u001b[38;5;124ma1\u001b[39m\u001b[38;5;124m'\u001b[39m, \u001b[38;5;124m'\u001b[39m\u001b[38;5;124ma1\u001b[39m\u001b[38;5;124m'\u001b[39m, \u001b[38;5;124m'\u001b[39m\u001b[38;5;124ma1\u001b[39m\u001b[38;5;124m'\u001b[39m, \u001b[38;5;124m'\u001b[39m\u001b[38;5;124ma1\u001b[39m\u001b[38;5;124m'\u001b[39m, \u001b[38;5;124m'\u001b[39m\u001b[38;5;124ma1\u001b[39m\u001b[38;5;124m'\u001b[39m, \u001b[38;5;124m'\u001b[39m\u001b[38;5;124ma1\u001b[39m\u001b[38;5;124m'\u001b[39m, \u001b[38;5;124m'\u001b[39m\u001b[38;5;124ma1\u001b[39m\u001b[38;5;124m'\u001b[39m, \u001b[38;5;124m'\u001b[39m\u001b[38;5;124ma4\u001b[39m\u001b[38;5;124m'\u001b[39m, \u001b[38;5;124m'\u001b[39m\u001b[38;5;124ma4\u001b[39m\u001b[38;5;124m'\u001b[39m, \u001b[38;5;124m'\u001b[39m\u001b[38;5;124ma4\u001b[39m\u001b[38;5;124m'\u001b[39m, \u001b[38;5;124m'\u001b[39m\u001b[38;5;124ma4\u001b[39m\u001b[38;5;124m'\u001b[39m, \u001b[38;5;124m'\u001b[39m\u001b[38;5;124ma4\u001b[39m\u001b[38;5;124m'\u001b[39m, \u001b[38;5;124m'\u001b[39m\u001b[38;5;124ma4\u001b[39m\u001b[38;5;124m'\u001b[39m, \u001b[38;5;124m'\u001b[39m\u001b[38;5;124ma4\u001b[39m\u001b[38;5;124m'\u001b[39m, \u001b[38;5;124m'\u001b[39m\u001b[38;5;124ma4\u001b[39m\u001b[38;5;124m'\u001b[39m, \u001b[38;5;124m'\u001b[39m\u001b[38;5;124ma4\u001b[39m\u001b[38;5;124m'\u001b[39m, \u001b[38;5;124m'\u001b[39m\u001b[38;5;124ma4\u001b[39m\u001b[38;5;124m'\u001b[39m, \u001b[38;5;124m'\u001b[39m\u001b[38;5;124ma4\u001b[39m\u001b[38;5;124m'\u001b[39m, \u001b[38;5;124m'\u001b[39m\u001b[38;5;124ma4\u001b[39m\u001b[38;5;124m'\u001b[39m, \u001b[38;5;124m'\u001b[39m\u001b[38;5;124ma7\u001b[39m\u001b[38;5;124m'\u001b[39m, \u001b[38;5;124m'\u001b[39m\u001b[38;5;124ma7\u001b[39m\u001b[38;5;124m'\u001b[39m, \u001b[38;5;124m'\u001b[39m\u001b[38;5;124ma7\u001b[39m\u001b[38;5;124m'\u001b[39m, \u001b[38;5;124m'\u001b[39m\u001b[38;5;124ma7\u001b[39m\u001b[38;5;124m'\u001b[39m, \u001b[38;5;124m'\u001b[39m\u001b[38;5;124ma7\u001b[39m\u001b[38;5;124m'\u001b[39m, \u001b[38;5;124m'\u001b[39m\u001b[38;5;124ma7\u001b[39m\u001b[38;5;124m'\u001b[39m, \u001b[38;5;124m'\u001b[39m\u001b[38;5;124ma8\u001b[39m\u001b[38;5;124m'\u001b[39m, \u001b[38;5;124m'\u001b[39m\u001b[38;5;124ma8\u001b[39m\u001b[38;5;124m'\u001b[39m, \u001b[38;5;124m'\u001b[39m\u001b[38;5;124ma8\u001b[39m\u001b[38;5;124m'\u001b[39m, \u001b[38;5;124m'\u001b[39m\u001b[38;5;124ma8\u001b[39m\u001b[38;5;124m'\u001b[39m, \u001b[38;5;124m'\u001b[39m\u001b[38;5;124ma8\u001b[39m\u001b[38;5;124m'\u001b[39m, \u001b[38;5;124m'\u001b[39m\u001b[38;5;124ma9\u001b[39m\u001b[38;5;124m'\u001b[39m, \u001b[38;5;124m'\u001b[39m\u001b[38;5;124ma9\u001b[39m\u001b[38;5;124m'\u001b[39m, \u001b[38;5;124m'\u001b[39m\u001b[38;5;124ma9\u001b[39m\u001b[38;5;124m'\u001b[39m, \u001b[38;5;124m'\u001b[39m\u001b[38;5;124ma9\u001b[39m\u001b[38;5;124m'\u001b[39m, \u001b[38;5;124m'\u001b[39m\u001b[38;5;124ma10\u001b[39m\u001b[38;5;124m'\u001b[39m, \u001b[38;5;124m'\u001b[39m\u001b[38;5;124ma10\u001b[39m\u001b[38;5;124m'\u001b[39m, \u001b[38;5;124m'\u001b[39m\u001b[38;5;124ma10\u001b[39m\u001b[38;5;124m'\u001b[39m, \u001b[38;5;124m'\u001b[39m\u001b[38;5;124ma11\u001b[39m\u001b[38;5;124m'\u001b[39m, \u001b[38;5;124m'\u001b[39m\u001b[38;5;124ma11\u001b[39m\u001b[38;5;124m'\u001b[39m, \u001b[38;5;124m'\u001b[39m\u001b[38;5;124ma12\u001b[39m\u001b[38;5;124m'\u001b[39m],\n\u001b[0;32m      6\u001b[0m     \u001b[38;5;124m'\u001b[39m\u001b[38;5;124mDates\u001b[39m\u001b[38;5;124m'\u001b[39m: [\u001b[38;5;124m'\u001b[39m\u001b[38;5;124m01-05-2021\u001b[39m\u001b[38;5;124m'\u001b[39m, \u001b[38;5;124m'\u001b[39m\u001b[38;5;124m01-06-2021\u001b[39m\u001b[38;5;124m'\u001b[39m, \u001b[38;5;124m'\u001b[39m\u001b[38;5;124m01-07-2021\u001b[39m\u001b[38;5;124m'\u001b[39m, \u001b[38;5;124m'\u001b[39m\u001b[38;5;124m01-08-2021\u001b[39m\u001b[38;5;124m'\u001b[39m, \u001b[38;5;124m'\u001b[39m\u001b[38;5;124m01-09-2021\u001b[39m\u001b[38;5;124m'\u001b[39m, \u001b[38;5;124m'\u001b[39m\u001b[38;5;124m01-10-2021\u001b[39m\u001b[38;5;124m'\u001b[39m, \u001b[38;5;124m'\u001b[39m\u001b[38;5;124m01-11-2021\u001b[39m\u001b[38;5;124m'\u001b[39m, \u001b[38;5;124m'\u001b[39m\u001b[38;5;124m01-12-2021\u001b[39m\u001b[38;5;124m'\u001b[39m, \u001b[38;5;124m'\u001b[39m\u001b[38;5;124m01-01-2022\u001b[39m\u001b[38;5;124m'\u001b[39m, \u001b[38;5;124m'\u001b[39m\u001b[38;5;124m01-02-2022\u001b[39m\u001b[38;5;124m'\u001b[39m, \u001b[38;5;124m'\u001b[39m\u001b[38;5;124m01-03-2022\u001b[39m\u001b[38;5;124m'\u001b[39m, \u001b[38;5;124m'\u001b[39m\u001b[38;5;124m01-04-2022\u001b[39m\u001b[38;5;124m'\u001b[39m, \u001b[38;5;124m'\u001b[39m\u001b[38;5;124m01-05-2022\u001b[39m\u001b[38;5;124m'\u001b[39m, \u001b[38;5;124m'\u001b[39m\u001b[38;5;124m01-05-2021\u001b[39m\u001b[38;5;124m'\u001b[39m, \u001b[38;5;124m'\u001b[39m\u001b[38;5;124m01-06-2021\u001b[39m\u001b[38;5;124m'\u001b[39m, \u001b[38;5;124m'\u001b[39m\u001b[38;5;124m01-07-2021\u001b[39m\u001b[38;5;124m'\u001b[39m, \u001b[38;5;124m'\u001b[39m\u001b[38;5;124m01-08-2021\u001b[39m\u001b[38;5;124m'\u001b[39m, \u001b[38;5;124m'\u001b[39m\u001b[38;5;124m01-09-2021\u001b[39m\u001b[38;5;124m'\u001b[39m, \u001b[38;5;124m'\u001b[39m\u001b[38;5;124m01-10-2021\u001b[39m\u001b[38;5;124m'\u001b[39m, \u001b[38;5;124m'\u001b[39m\u001b[38;5;124m01-03-2022\u001b[39m\u001b[38;5;124m'\u001b[39m, \u001b[38;5;124m'\u001b[39m\u001b[38;5;124m01-04-2022\u001b[39m\u001b[38;5;124m'\u001b[39m, \u001b[38;5;124m'\u001b[39m\u001b[38;5;124m01-05-2022\u001b[39m\u001b[38;5;124m'\u001b[39m, \u001b[38;5;124m'\u001b[39m\u001b[38;5;124m01-05-2021\u001b[39m\u001b[38;5;124m'\u001b[39m, \u001b[38;5;124m'\u001b[39m\u001b[38;5;124m01-06-2021\u001b[39m\u001b[38;5;124m'\u001b[39m, \u001b[38;5;124m'\u001b[39m\u001b[38;5;124m01-07-2021\u001b[39m\u001b[38;5;124m'\u001b[39m, \u001b[38;5;124m'\u001b[39m\u001b[38;5;124m01-08-2021\u001b[39m\u001b[38;5;124m'\u001b[39m, \u001b[38;5;124m'\u001b[39m\u001b[38;5;124m01-09-2021\u001b[39m\u001b[38;5;124m'\u001b[39m, \u001b[38;5;124m'\u001b[39m\u001b[38;5;124m01-10-2021\u001b[39m\u001b[38;5;124m'\u001b[39m, \u001b[38;5;124m'\u001b[39m\u001b[38;5;124m01-11-2021\u001b[39m\u001b[38;5;124m'\u001b[39m, \u001b[38;5;124m'\u001b[39m\u001b[38;5;124m01-12-2021\u001b[39m\u001b[38;5;124m'\u001b[39m, \u001b[38;5;124m'\u001b[39m\u001b[38;5;124m01-01-2022\u001b[39m\u001b[38;5;124m'\u001b[39m, \u001b[38;5;124m'\u001b[39m\u001b[38;5;124m01-02-2022\u001b[39m\u001b[38;5;124m'\u001b[39m, \u001b[38;5;124m'\u001b[39m\u001b[38;5;124m01-03-2022\u001b[39m\u001b[38;5;124m'\u001b[39m, \u001b[38;5;124m'\u001b[39m\u001b[38;5;124m01-04-2022\u001b[39m\u001b[38;5;124m'\u001b[39m, \u001b[38;5;124m'\u001b[39m\u001b[38;5;124m01-05-2022\u001b[39m\u001b[38;5;124m'\u001b[39m, \u001b[38;5;124m'\u001b[39m\u001b[38;5;124m01-05-2021\u001b[39m\u001b[38;5;124m'\u001b[39m, \u001b[38;5;124m'\u001b[39m\u001b[38;5;124m01-12-2021\u001b[39m\u001b[38;5;124m'\u001b[39m, \u001b[38;5;124m'\u001b[39m\u001b[38;5;124m01-01-2022\u001b[39m\u001b[38;5;124m'\u001b[39m, \u001b[38;5;124m'\u001b[39m\u001b[38;5;124m01-05-2022\u001b[39m\u001b[38;5;124m'\u001b[39m, \u001b[38;5;124m'\u001b[39m\u001b[38;5;124m01-05-2021\u001b[39m\u001b[38;5;124m'\u001b[39m, \u001b[38;5;124m'\u001b[39m\u001b[38;5;124m01-06-2021\u001b[39m\u001b[38;5;124m'\u001b[39m, \u001b[38;5;124m'\u001b[39m\u001b[38;5;124m01-07-2021\u001b[39m\u001b[38;5;124m'\u001b[39m, \u001b[38;5;124m'\u001b[39m\u001b[38;5;124m01-05-2021\u001b[39m\u001b[38;5;124m'\u001b[39m, \u001b[38;5;124m'\u001b[39m\u001b[38;5;124m01-06-2021\u001b[39m\u001b[38;5;124m'\u001b[39m, \u001b[38;5;124m'\u001b[39m\u001b[38;5;124m01-05-2021\u001b[39m\u001b[38;5;124m'\u001b[39m],\n\u001b[1;32m   (...)\u001b[0m\n\u001b[0;32m      9\u001b[0m     \u001b[38;5;124m'\u001b[39m\u001b[38;5;124mUnit\u001b[39m\u001b[38;5;124m'\u001b[39m: [\u001b[38;5;241m741\u001b[39m, \u001b[38;5;241m151\u001b[39m, \u001b[38;5;241m237\u001b[39m, \u001b[38;5;241m566\u001b[39m, \u001b[38;5;241m373\u001b[39m, \u001b[38;5;241m296\u001b[39m, \u001b[38;5;241m439\u001b[39m, \u001b[38;5;241m517\u001b[39m, \u001b[38;5;241m468\u001b[39m, \u001b[38;5;241m1027\u001b[39m, \u001b[38;5;241m173\u001b[39m, \u001b[38;5;241m488\u001b[39m, \u001b[38;5;241m410\u001b[39m, \u001b[38;5;241m369\u001b[39m, \u001b[38;5;241m397\u001b[39m, \u001b[38;5;241m1068\u001b[39m, \u001b[38;5;241m1430\u001b[39m, \u001b[38;5;241m334\u001b[39m, \u001b[38;5;241m350\u001b[39m, \u001b[38;5;241m319\u001b[39m, \u001b[38;5;241m804\u001b[39m, \u001b[38;5;241m141\u001b[39m, \u001b[38;5;241m1223\u001b[39m, \u001b[38;5;241m1032\u001b[39m, \u001b[38;5;241m210\u001b[39m, \u001b[38;5;241m1032\u001b[39m, \u001b[38;5;241m151\u001b[39m, \u001b[38;5;241m389\u001b[39m, \u001b[38;5;241m286\u001b[39m, \u001b[38;5;241m54\u001b[39m, \u001b[38;5;241m262\u001b[39m, \u001b[38;5;241m621\u001b[39m, \u001b[38;5;241m251\u001b[39m, \u001b[38;5;241m404\u001b[39m, \u001b[38;5;241m274\u001b[39m, \u001b[38;5;241m193\u001b[39m, \u001b[38;5;241m1443\u001b[39m, \u001b[38;5;241m1823\u001b[39m, \u001b[38;5;241m875\u001b[39m, \u001b[38;5;241m437\u001b[39m, \u001b[38;5;241m2\u001b[39m, \u001b[38;5;241m671\u001b[39m, \u001b[38;5;241m583\u001b[39m]\n\u001b[0;32m     10\u001b[0m }\n\u001b[1;32m---> 12\u001b[0m df \u001b[38;5;241m=\u001b[39m \u001b[43mpd\u001b[49m\u001b[38;5;241;43m.\u001b[39;49m\u001b[43mDataFrame\u001b[49m\u001b[43m(\u001b[49m\u001b[43mdata\u001b[49m\u001b[43m)\u001b[49m\n\u001b[0;32m     14\u001b[0m \u001b[38;5;66;03m# Convert 'Dates' column to datetime\u001b[39;00m\n\u001b[0;32m     15\u001b[0m df[\u001b[38;5;124m'\u001b[39m\u001b[38;5;124mDates\u001b[39m\u001b[38;5;124m'\u001b[39m] \u001b[38;5;241m=\u001b[39m pd\u001b[38;5;241m.\u001b[39mto_datetime(df[\u001b[38;5;124m'\u001b[39m\u001b[38;5;124mDates\u001b[39m\u001b[38;5;124m'\u001b[39m], \u001b[38;5;28mformat\u001b[39m\u001b[38;5;241m=\u001b[39m\u001b[38;5;124m'\u001b[39m\u001b[38;5;132;01m%d\u001b[39;00m\u001b[38;5;124m-\u001b[39m\u001b[38;5;124m%\u001b[39m\u001b[38;5;124mm-\u001b[39m\u001b[38;5;124m%\u001b[39m\u001b[38;5;124mY\u001b[39m\u001b[38;5;124m'\u001b[39m)\n",
      "File \u001b[1;32mC:\\Program Files\\Python311\\Lib\\site-packages\\pandas\\core\\frame.py:767\u001b[0m, in \u001b[0;36mDataFrame.__init__\u001b[1;34m(self, data, index, columns, dtype, copy)\u001b[0m\n\u001b[0;32m    761\u001b[0m     mgr \u001b[38;5;241m=\u001b[39m \u001b[38;5;28mself\u001b[39m\u001b[38;5;241m.\u001b[39m_init_mgr(\n\u001b[0;32m    762\u001b[0m         data, axes\u001b[38;5;241m=\u001b[39m{\u001b[38;5;124m\"\u001b[39m\u001b[38;5;124mindex\u001b[39m\u001b[38;5;124m\"\u001b[39m: index, \u001b[38;5;124m\"\u001b[39m\u001b[38;5;124mcolumns\u001b[39m\u001b[38;5;124m\"\u001b[39m: columns}, dtype\u001b[38;5;241m=\u001b[39mdtype, copy\u001b[38;5;241m=\u001b[39mcopy\n\u001b[0;32m    763\u001b[0m     )\n\u001b[0;32m    765\u001b[0m \u001b[38;5;28;01melif\u001b[39;00m \u001b[38;5;28misinstance\u001b[39m(data, \u001b[38;5;28mdict\u001b[39m):\n\u001b[0;32m    766\u001b[0m     \u001b[38;5;66;03m# GH#38939 de facto copy defaults to False only in non-dict cases\u001b[39;00m\n\u001b[1;32m--> 767\u001b[0m     mgr \u001b[38;5;241m=\u001b[39m \u001b[43mdict_to_mgr\u001b[49m\u001b[43m(\u001b[49m\u001b[43mdata\u001b[49m\u001b[43m,\u001b[49m\u001b[43m \u001b[49m\u001b[43mindex\u001b[49m\u001b[43m,\u001b[49m\u001b[43m \u001b[49m\u001b[43mcolumns\u001b[49m\u001b[43m,\u001b[49m\u001b[43m \u001b[49m\u001b[43mdtype\u001b[49m\u001b[38;5;241;43m=\u001b[39;49m\u001b[43mdtype\u001b[49m\u001b[43m,\u001b[49m\u001b[43m \u001b[49m\u001b[43mcopy\u001b[49m\u001b[38;5;241;43m=\u001b[39;49m\u001b[43mcopy\u001b[49m\u001b[43m,\u001b[49m\u001b[43m \u001b[49m\u001b[43mtyp\u001b[49m\u001b[38;5;241;43m=\u001b[39;49m\u001b[43mmanager\u001b[49m\u001b[43m)\u001b[49m\n\u001b[0;32m    768\u001b[0m \u001b[38;5;28;01melif\u001b[39;00m \u001b[38;5;28misinstance\u001b[39m(data, ma\u001b[38;5;241m.\u001b[39mMaskedArray):\n\u001b[0;32m    769\u001b[0m     \u001b[38;5;28;01mfrom\u001b[39;00m \u001b[38;5;21;01mnumpy\u001b[39;00m\u001b[38;5;21;01m.\u001b[39;00m\u001b[38;5;21;01mma\u001b[39;00m \u001b[38;5;28;01mimport\u001b[39;00m mrecords\n",
      "File \u001b[1;32mC:\\Program Files\\Python311\\Lib\\site-packages\\pandas\\core\\internals\\construction.py:503\u001b[0m, in \u001b[0;36mdict_to_mgr\u001b[1;34m(data, index, columns, dtype, typ, copy)\u001b[0m\n\u001b[0;32m    499\u001b[0m     \u001b[38;5;28;01melse\u001b[39;00m:\n\u001b[0;32m    500\u001b[0m         \u001b[38;5;66;03m# dtype check to exclude e.g. range objects, scalars\u001b[39;00m\n\u001b[0;32m    501\u001b[0m         arrays \u001b[38;5;241m=\u001b[39m [x\u001b[38;5;241m.\u001b[39mcopy() \u001b[38;5;28;01mif\u001b[39;00m \u001b[38;5;28mhasattr\u001b[39m(x, \u001b[38;5;124m\"\u001b[39m\u001b[38;5;124mdtype\u001b[39m\u001b[38;5;124m\"\u001b[39m) \u001b[38;5;28;01melse\u001b[39;00m x \u001b[38;5;28;01mfor\u001b[39;00m x \u001b[38;5;129;01min\u001b[39;00m arrays]\n\u001b[1;32m--> 503\u001b[0m \u001b[38;5;28;01mreturn\u001b[39;00m \u001b[43marrays_to_mgr\u001b[49m\u001b[43m(\u001b[49m\u001b[43marrays\u001b[49m\u001b[43m,\u001b[49m\u001b[43m \u001b[49m\u001b[43mcolumns\u001b[49m\u001b[43m,\u001b[49m\u001b[43m \u001b[49m\u001b[43mindex\u001b[49m\u001b[43m,\u001b[49m\u001b[43m \u001b[49m\u001b[43mdtype\u001b[49m\u001b[38;5;241;43m=\u001b[39;49m\u001b[43mdtype\u001b[49m\u001b[43m,\u001b[49m\u001b[43m \u001b[49m\u001b[43mtyp\u001b[49m\u001b[38;5;241;43m=\u001b[39;49m\u001b[43mtyp\u001b[49m\u001b[43m,\u001b[49m\u001b[43m \u001b[49m\u001b[43mconsolidate\u001b[49m\u001b[38;5;241;43m=\u001b[39;49m\u001b[43mcopy\u001b[49m\u001b[43m)\u001b[49m\n",
      "File \u001b[1;32mC:\\Program Files\\Python311\\Lib\\site-packages\\pandas\\core\\internals\\construction.py:114\u001b[0m, in \u001b[0;36marrays_to_mgr\u001b[1;34m(arrays, columns, index, dtype, verify_integrity, typ, consolidate)\u001b[0m\n\u001b[0;32m    111\u001b[0m \u001b[38;5;28;01mif\u001b[39;00m verify_integrity:\n\u001b[0;32m    112\u001b[0m     \u001b[38;5;66;03m# figure out the index, if necessary\u001b[39;00m\n\u001b[0;32m    113\u001b[0m     \u001b[38;5;28;01mif\u001b[39;00m index \u001b[38;5;129;01mis\u001b[39;00m \u001b[38;5;28;01mNone\u001b[39;00m:\n\u001b[1;32m--> 114\u001b[0m         index \u001b[38;5;241m=\u001b[39m \u001b[43m_extract_index\u001b[49m\u001b[43m(\u001b[49m\u001b[43marrays\u001b[49m\u001b[43m)\u001b[49m\n\u001b[0;32m    115\u001b[0m     \u001b[38;5;28;01melse\u001b[39;00m:\n\u001b[0;32m    116\u001b[0m         index \u001b[38;5;241m=\u001b[39m ensure_index(index)\n",
      "File \u001b[1;32mC:\\Program Files\\Python311\\Lib\\site-packages\\pandas\\core\\internals\\construction.py:677\u001b[0m, in \u001b[0;36m_extract_index\u001b[1;34m(data)\u001b[0m\n\u001b[0;32m    675\u001b[0m lengths \u001b[38;5;241m=\u001b[39m \u001b[38;5;28mlist\u001b[39m(\u001b[38;5;28mset\u001b[39m(raw_lengths))\n\u001b[0;32m    676\u001b[0m \u001b[38;5;28;01mif\u001b[39;00m \u001b[38;5;28mlen\u001b[39m(lengths) \u001b[38;5;241m>\u001b[39m \u001b[38;5;241m1\u001b[39m:\n\u001b[1;32m--> 677\u001b[0m     \u001b[38;5;28;01mraise\u001b[39;00m \u001b[38;5;167;01mValueError\u001b[39;00m(\u001b[38;5;124m\"\u001b[39m\u001b[38;5;124mAll arrays must be of the same length\u001b[39m\u001b[38;5;124m\"\u001b[39m)\n\u001b[0;32m    679\u001b[0m \u001b[38;5;28;01mif\u001b[39;00m have_dicts:\n\u001b[0;32m    680\u001b[0m     \u001b[38;5;28;01mraise\u001b[39;00m \u001b[38;5;167;01mValueError\u001b[39;00m(\n\u001b[0;32m    681\u001b[0m         \u001b[38;5;124m\"\u001b[39m\u001b[38;5;124mMixing dicts with non-Series may lead to ambiguous ordering.\u001b[39m\u001b[38;5;124m\"\u001b[39m\n\u001b[0;32m    682\u001b[0m     )\n",
      "\u001b[1;31mValueError\u001b[0m: All arrays must be of the same length"
     ]
    }
   ],
   "source": [
    "import pandas as pd\n",
    "\n",
    "# Sample data\n",
    "data = {\n",
    "    'variantcombo': ['a1', 'a1', 'a1', 'a1', 'a1', 'a1', 'a1', 'a1', 'a1', 'a1', 'a1', 'a1', 'a1', 'a4', 'a4', 'a4', 'a4', 'a4', 'a4', 'a4', 'a4', 'a4', 'a4', 'a4', 'a4', 'a7', 'a7', 'a7', 'a7', 'a7', 'a7', 'a8', 'a8', 'a8', 'a8', 'a8', 'a9', 'a9', 'a9', 'a9', 'a10', 'a10', 'a10', 'a11', 'a11', 'a12'],\n",
    "    'Dates': ['01-05-2021', '01-06-2021', '01-07-2021', '01-08-2021', '01-09-2021', '01-10-2021', '01-11-2021', '01-12-2021', '01-01-2022', '01-02-2022', '01-03-2022', '01-04-2022', '01-05-2022', '01-05-2021', '01-06-2021', '01-07-2021', '01-08-2021', '01-09-2021', '01-10-2021', '01-03-2022', '01-04-2022', '01-05-2022', '01-05-2021', '01-06-2021', '01-07-2021', '01-08-2021', '01-09-2021', '01-10-2021', '01-11-2021', '01-12-2021', '01-01-2022', '01-02-2022', '01-03-2022', '01-04-2022', '01-05-2022', '01-05-2021', '01-12-2021', '01-01-2022', '01-05-2022', '01-05-2021', '01-06-2021', '01-07-2021', '01-05-2021', '01-06-2021', '01-05-2021'],\n",
    "    'Sales': [7818748, 2924771, 4090707, 9726744, 6986305, 2820180, 6968876, 4388185, 6310561, 9404581, 2204440, 9313770, 6091091, 5180078, 3276271, 9186658, 9153887, 6460826, 5872540, 5521553, 7811517, 1608344, 7001366, 5868254, 1444901, 6329780, 2269821, 6646609, 3033446, 264430, 3955429, 7992266, 3783967, 7399415, 4076197, 3052242, 9728032, 8667830, 9085282, 8009206, 30671, 7715463, 4013728],\n",
    "    'Volume': [10546, 19340, 17243, 17187, 18712, 9526, 15876, 8488, 13472, 9161, 12758, 19086, 14846, 14045, 8252, 8603, 6403, 19366, 16775, 17313, 9721, 11410, 5723, 5685, 6868, 6136, 15049, 17105, 10605, 4876, 15076, 12868, 15090, 18329, 14895, 15819, 6742, 4756, 10386, 18332, 13411, 11491, 6879],\n",
    "    'Unit': [741, 151, 237, 566, 373, 296, 439, 517, 468, 1027, 173, 488, 410, 369, 397, 1068, 1430, 334, 350, 319, 804, 141, 1223, 1032, 210, 1032, 151, 389, 286, 54, 262, 621, 251, 404, 274, 193, 1443, 1823, 875, 437, 2, 671, 583]\n",
    "}\n",
    "\n",
    "df = pd.DataFrame(data)\n",
    "\n",
    "# Convert 'Dates' column to datetime\n",
    "df['Dates'] = pd.to_datetime(df['Dates'], format='%d-%m-%Y')\n",
    "\n",
    "# Function to calculate rolling sales, volume, and unit for each variantcombo\n",
    "def calculate_rolling(df):\n",
    "    # Initialize rolling data for each variantcombo\n",
    "    rolling_data = {'Dates': [], 'Sales_1month_Rolling': [], 'Volume_1month_Rolling': [], 'Unit_1month_Rolling': [],\n",
    "                    'Sales_2month_Rolling': [], 'Volume_2month_Rolling': [], 'Unit_2month_Rolling': [],\n",
    "                    'Sales_3month_Rolling': [], 'Volume_3month_Rolling': [], 'Unit_3month_Rolling': [],\n",
    "                    'Sales_4month_Rolling': [], 'Volume_4month_Rolling': [], 'Unit_4month_Rolling': []}\n",
    "    \n",
    "    # Get unique months for the current variantcombo\n",
    "    unique_months = df['Dates'].dt.month.unique()\n",
    "    \n",
    "    # Loop through each month and calculate rolling sums\n",
    "    for i, month in enumerate(unique_months):\n",
    "        # Select data for the current month\n",
    "        month_data = df[df['Dates'].dt.month == month]\n",
    "        \n",
    "        # Calculate rolling sums for 1 to 4 months\n",
    "        for j in range(1, 5):\n",
    "            if i + j <= len(unique_months):\n",
    "                rolling_sales = month_data['Sales'].rolling(window=j, min_periods=1).sum().values[-1]\n",
    "                rolling_volume = month_data['Volume'].rolling(window=j, min_periods=1).sum().values[-1]\n",
    "                rolling_unit = month_data['Unit'].rolling(window=j, min_periods=1).sum().values[-1]\n",
    "            else:\n",
    "                rolling_sales, rolling_volume, rolling_unit = None, None, None\n",
    "            \n",
    "            # Append rolling data to the rolling_data dictionary\n",
    "            rolling_data[f'Sales_{j}month_Rolling'].append(rolling_sales)\n",
    "            rolling_data[f'Volume_{j}month_Rolling'].append(rolling_volume)\n",
    "            rolling_data[f'Unit_{j}month_Rolling'].append(rolling_unit)\n",
    "            \n",
    "            # Append the corresponding date for the rolling data\n",
    "            rolling_data['Dates'].append(month_data['Dates'].values[-1])\n",
    "    \n",
    "    # Create DataFrame from rolling_data dictionary\n",
    "    rolling_df = pd.DataFrame(rolling_data)\n",
    "    \n",
    "    return rolling_df\n",
    "\n",
    "# Apply the function to calculate rolling values for each variantcombo\n",
    "rolling_results = df.groupby('variantcombo').apply(calculate_rolling).reset_index(drop=True)\n",
    "\n",
    "print(rolling_results)\n"
   ]
  },
  {
   "cell_type": "code",
   "execution_count": 2,
   "id": "6db42802-ceba-49a7-b51f-f2a1ab301b95",
   "metadata": {},
   "outputs": [],
   "source": [
    "df = pd.read_csv(\"C:/Users/10675048/OneDrive - LTIMindtree/CPG DOMAIN/Sample Data/NPD Data/rolling_logic_sample_data.csv\",encoding='latin-1')"
   ]
  },
  {
   "cell_type": "code",
   "execution_count": 4,
   "id": "47a5d450-d9a3-4734-97d6-cbc1ae2691de",
   "metadata": {},
   "outputs": [
    {
     "data": {
      "text/plain": [
       "0    2021-05-01\n",
       "1    2021-06-01\n",
       "2    2021-07-01\n",
       "3    2021-08-01\n",
       "4    2021-09-01\n",
       "        ...    \n",
       "74   2021-06-01\n",
       "75   2021-07-01\n",
       "76   2021-05-01\n",
       "77   2021-06-01\n",
       "78   2021-05-01\n",
       "Name: Dates, Length: 79, dtype: datetime64[ns]"
      ]
     },
     "execution_count": 4,
     "metadata": {},
     "output_type": "execute_result"
    }
   ],
   "source": [
    "# Convert 'Dates' column to datetime\n",
    "df['Dates'] = pd.to_datetime(df['Dates'], format='%d-%m-%Y')\n",
    "df['Dates']"
   ]
  },
  {
   "cell_type": "code",
   "execution_count": 12,
   "id": "467d7c38-d963-47d3-a3fb-6771d7bfb45c",
   "metadata": {},
   "outputs": [],
   "source": [
    "def calculate_rolling(df):\n",
    "    # Initialize rolling data for each variantcombo\n",
    "    rolling_data = {'Dates': [], 'Sales_1month_Rolling': [], 'Volume_1month_Rolling': [], 'Unit_1month_Rolling': [],\n",
    "                    'Sales_2month_Rolling': [], 'Volume_2month_Rolling': [], 'Unit_2month_Rolling': [],\n",
    "                    'Sales_3month_Rolling': [], 'Volume_3month_Rolling': [], 'Unit_3month_Rolling': [],\n",
    "                    'Sales_4month_Rolling': [], 'Volume_4month_Rolling': [], 'Unit_4month_Rolling': []}\n",
    "    \n",
    "    \n",
    "        # Get unique months for the current variantcombo\n",
    "        \n",
    "        unique_months = df['Dates'].dt.month.unique()\n",
    "        \n",
    "        # Loop through each month and calculate rolling sums\n",
    "        for i, month in enumerate(unique_months):\n",
    "            # Select data for the current month\n",
    "            month_data = df[df['Dates'].dt.month == month]\n",
    "            \n",
    "            # Calculate rolling sums for 1 to 4 months\n",
    "            for j in range(1, 5):\n",
    "                if i + j <= len(unique_months):\n",
    "                    rolling_sales = month_data['Sales'].rolling(window=j, min_periods=1).sum().values[-1]\n",
    "                    rolling_volume = month_data['Volume'].rolling(window=j, min_periods=1).sum().values[-1]\n",
    "                    rolling_unit = month_data['Unit'].rolling(window=j, min_periods=1).sum().values[-1]\n",
    "                else:\n",
    "                    rolling_sales, rolling_volume, rolling_unit = month_data['Sales'], month_data['Volume'], month_data['Unit']\n",
    "                \n",
    "                # Append rolling data to the rolling_data dictionary\n",
    "                rolling_data[f'Sales_{j}month_Rolling'].append(rolling_sales)\n",
    "                rolling_data[f'Volume_{j}month_Rolling'].append(rolling_volume)\n",
    "                rolling_data[f'Unit_{j}month_Rolling'].append(rolling_unit)\n",
    "                \n",
    "                # Append the corresponding date for the rolling data\n",
    "                rolling_data['Dates'].append(month_data['Dates'].values[-1])\n",
    "        \n",
    "        # Create DataFrame from rolling_data dictionary\n",
    "        rolling_df = pd.DataFrame(rolling_data)\n",
    "        \n",
    "        return rolling_df\n"
   ]
  },
  {
   "cell_type": "code",
   "execution_count": null,
   "id": "fe2665e1-f78e-4921-92f7-aab0ae2b3623",
   "metadata": {},
   "outputs": [],
   "source": []
  },
  {
   "cell_type": "code",
   "execution_count": 15,
   "id": "50b01062-7cc7-40d1-b066-02effbb0b6b7",
   "metadata": {},
   "outputs": [
    {
     "ename": "ValueError",
     "evalue": "All arrays must be of the same length",
     "output_type": "error",
     "traceback": [
      "\u001b[1;31m---------------------------------------------------------------------------\u001b[0m",
      "\u001b[1;31mValueError\u001b[0m                                Traceback (most recent call last)",
      "Cell \u001b[1;32mIn[15], line 2\u001b[0m\n\u001b[0;32m      1\u001b[0m \u001b[38;5;66;03m# Apply the function to calculate rolling values for each variantcombo\u001b[39;00m\n\u001b[1;32m----> 2\u001b[0m rolling_results \u001b[38;5;241m=\u001b[39m df\u001b[38;5;241m.\u001b[39mgroupby(\u001b[38;5;124m'\u001b[39m\u001b[38;5;124mvaraintcombo\u001b[39m\u001b[38;5;124m'\u001b[39m)\u001b[38;5;241m.\u001b[39mapply(\u001b[43mcalculate_rolling\u001b[49m\u001b[43m(\u001b[49m\u001b[43mdf\u001b[49m\u001b[43m)\u001b[49m)\u001b[38;5;241m.\u001b[39mreset_index(drop\u001b[38;5;241m=\u001b[39m\u001b[38;5;28;01mTrue\u001b[39;00m)\n\u001b[0;32m      3\u001b[0m \u001b[38;5;66;03m#rolling_results\u001b[39;00m\n\u001b[0;32m      4\u001b[0m \u001b[38;5;66;03m#print(rolling_results)\u001b[39;00m\n",
      "Cell \u001b[1;32mIn[12], line 34\u001b[0m, in \u001b[0;36mcalculate_rolling\u001b[1;34m(df)\u001b[0m\n\u001b[0;32m     31\u001b[0m         rolling_data[\u001b[38;5;124m'\u001b[39m\u001b[38;5;124mDates\u001b[39m\u001b[38;5;124m'\u001b[39m]\u001b[38;5;241m.\u001b[39mappend(month_data[\u001b[38;5;124m'\u001b[39m\u001b[38;5;124mDates\u001b[39m\u001b[38;5;124m'\u001b[39m]\u001b[38;5;241m.\u001b[39mvalues[\u001b[38;5;241m-\u001b[39m\u001b[38;5;241m1\u001b[39m])\n\u001b[0;32m     33\u001b[0m \u001b[38;5;66;03m# Create DataFrame from rolling_data dictionary\u001b[39;00m\n\u001b[1;32m---> 34\u001b[0m rolling_df \u001b[38;5;241m=\u001b[39m \u001b[43mpd\u001b[49m\u001b[38;5;241;43m.\u001b[39;49m\u001b[43mDataFrame\u001b[49m\u001b[43m(\u001b[49m\u001b[43mrolling_data\u001b[49m\u001b[43m)\u001b[49m\n\u001b[0;32m     36\u001b[0m \u001b[38;5;28;01mreturn\u001b[39;00m rolling_df\n",
      "File \u001b[1;32mC:\\Program Files\\Python311\\Lib\\site-packages\\pandas\\core\\frame.py:767\u001b[0m, in \u001b[0;36mDataFrame.__init__\u001b[1;34m(self, data, index, columns, dtype, copy)\u001b[0m\n\u001b[0;32m    761\u001b[0m     mgr \u001b[38;5;241m=\u001b[39m \u001b[38;5;28mself\u001b[39m\u001b[38;5;241m.\u001b[39m_init_mgr(\n\u001b[0;32m    762\u001b[0m         data, axes\u001b[38;5;241m=\u001b[39m{\u001b[38;5;124m\"\u001b[39m\u001b[38;5;124mindex\u001b[39m\u001b[38;5;124m\"\u001b[39m: index, \u001b[38;5;124m\"\u001b[39m\u001b[38;5;124mcolumns\u001b[39m\u001b[38;5;124m\"\u001b[39m: columns}, dtype\u001b[38;5;241m=\u001b[39mdtype, copy\u001b[38;5;241m=\u001b[39mcopy\n\u001b[0;32m    763\u001b[0m     )\n\u001b[0;32m    765\u001b[0m \u001b[38;5;28;01melif\u001b[39;00m \u001b[38;5;28misinstance\u001b[39m(data, \u001b[38;5;28mdict\u001b[39m):\n\u001b[0;32m    766\u001b[0m     \u001b[38;5;66;03m# GH#38939 de facto copy defaults to False only in non-dict cases\u001b[39;00m\n\u001b[1;32m--> 767\u001b[0m     mgr \u001b[38;5;241m=\u001b[39m \u001b[43mdict_to_mgr\u001b[49m\u001b[43m(\u001b[49m\u001b[43mdata\u001b[49m\u001b[43m,\u001b[49m\u001b[43m \u001b[49m\u001b[43mindex\u001b[49m\u001b[43m,\u001b[49m\u001b[43m \u001b[49m\u001b[43mcolumns\u001b[49m\u001b[43m,\u001b[49m\u001b[43m \u001b[49m\u001b[43mdtype\u001b[49m\u001b[38;5;241;43m=\u001b[39;49m\u001b[43mdtype\u001b[49m\u001b[43m,\u001b[49m\u001b[43m \u001b[49m\u001b[43mcopy\u001b[49m\u001b[38;5;241;43m=\u001b[39;49m\u001b[43mcopy\u001b[49m\u001b[43m,\u001b[49m\u001b[43m \u001b[49m\u001b[43mtyp\u001b[49m\u001b[38;5;241;43m=\u001b[39;49m\u001b[43mmanager\u001b[49m\u001b[43m)\u001b[49m\n\u001b[0;32m    768\u001b[0m \u001b[38;5;28;01melif\u001b[39;00m \u001b[38;5;28misinstance\u001b[39m(data, ma\u001b[38;5;241m.\u001b[39mMaskedArray):\n\u001b[0;32m    769\u001b[0m     \u001b[38;5;28;01mfrom\u001b[39;00m \u001b[38;5;21;01mnumpy\u001b[39;00m\u001b[38;5;21;01m.\u001b[39;00m\u001b[38;5;21;01mma\u001b[39;00m \u001b[38;5;28;01mimport\u001b[39;00m mrecords\n",
      "File \u001b[1;32mC:\\Program Files\\Python311\\Lib\\site-packages\\pandas\\core\\internals\\construction.py:503\u001b[0m, in \u001b[0;36mdict_to_mgr\u001b[1;34m(data, index, columns, dtype, typ, copy)\u001b[0m\n\u001b[0;32m    499\u001b[0m     \u001b[38;5;28;01melse\u001b[39;00m:\n\u001b[0;32m    500\u001b[0m         \u001b[38;5;66;03m# dtype check to exclude e.g. range objects, scalars\u001b[39;00m\n\u001b[0;32m    501\u001b[0m         arrays \u001b[38;5;241m=\u001b[39m [x\u001b[38;5;241m.\u001b[39mcopy() \u001b[38;5;28;01mif\u001b[39;00m \u001b[38;5;28mhasattr\u001b[39m(x, \u001b[38;5;124m\"\u001b[39m\u001b[38;5;124mdtype\u001b[39m\u001b[38;5;124m\"\u001b[39m) \u001b[38;5;28;01melse\u001b[39;00m x \u001b[38;5;28;01mfor\u001b[39;00m x \u001b[38;5;129;01min\u001b[39;00m arrays]\n\u001b[1;32m--> 503\u001b[0m \u001b[38;5;28;01mreturn\u001b[39;00m \u001b[43marrays_to_mgr\u001b[49m\u001b[43m(\u001b[49m\u001b[43marrays\u001b[49m\u001b[43m,\u001b[49m\u001b[43m \u001b[49m\u001b[43mcolumns\u001b[49m\u001b[43m,\u001b[49m\u001b[43m \u001b[49m\u001b[43mindex\u001b[49m\u001b[43m,\u001b[49m\u001b[43m \u001b[49m\u001b[43mdtype\u001b[49m\u001b[38;5;241;43m=\u001b[39;49m\u001b[43mdtype\u001b[49m\u001b[43m,\u001b[49m\u001b[43m \u001b[49m\u001b[43mtyp\u001b[49m\u001b[38;5;241;43m=\u001b[39;49m\u001b[43mtyp\u001b[49m\u001b[43m,\u001b[49m\u001b[43m \u001b[49m\u001b[43mconsolidate\u001b[49m\u001b[38;5;241;43m=\u001b[39;49m\u001b[43mcopy\u001b[49m\u001b[43m)\u001b[49m\n",
      "File \u001b[1;32mC:\\Program Files\\Python311\\Lib\\site-packages\\pandas\\core\\internals\\construction.py:114\u001b[0m, in \u001b[0;36marrays_to_mgr\u001b[1;34m(arrays, columns, index, dtype, verify_integrity, typ, consolidate)\u001b[0m\n\u001b[0;32m    111\u001b[0m \u001b[38;5;28;01mif\u001b[39;00m verify_integrity:\n\u001b[0;32m    112\u001b[0m     \u001b[38;5;66;03m# figure out the index, if necessary\u001b[39;00m\n\u001b[0;32m    113\u001b[0m     \u001b[38;5;28;01mif\u001b[39;00m index \u001b[38;5;129;01mis\u001b[39;00m \u001b[38;5;28;01mNone\u001b[39;00m:\n\u001b[1;32m--> 114\u001b[0m         index \u001b[38;5;241m=\u001b[39m \u001b[43m_extract_index\u001b[49m\u001b[43m(\u001b[49m\u001b[43marrays\u001b[49m\u001b[43m)\u001b[49m\n\u001b[0;32m    115\u001b[0m     \u001b[38;5;28;01melse\u001b[39;00m:\n\u001b[0;32m    116\u001b[0m         index \u001b[38;5;241m=\u001b[39m ensure_index(index)\n",
      "File \u001b[1;32mC:\\Program Files\\Python311\\Lib\\site-packages\\pandas\\core\\internals\\construction.py:677\u001b[0m, in \u001b[0;36m_extract_index\u001b[1;34m(data)\u001b[0m\n\u001b[0;32m    675\u001b[0m lengths \u001b[38;5;241m=\u001b[39m \u001b[38;5;28mlist\u001b[39m(\u001b[38;5;28mset\u001b[39m(raw_lengths))\n\u001b[0;32m    676\u001b[0m \u001b[38;5;28;01mif\u001b[39;00m \u001b[38;5;28mlen\u001b[39m(lengths) \u001b[38;5;241m>\u001b[39m \u001b[38;5;241m1\u001b[39m:\n\u001b[1;32m--> 677\u001b[0m     \u001b[38;5;28;01mraise\u001b[39;00m \u001b[38;5;167;01mValueError\u001b[39;00m(\u001b[38;5;124m\"\u001b[39m\u001b[38;5;124mAll arrays must be of the same length\u001b[39m\u001b[38;5;124m\"\u001b[39m)\n\u001b[0;32m    679\u001b[0m \u001b[38;5;28;01mif\u001b[39;00m have_dicts:\n\u001b[0;32m    680\u001b[0m     \u001b[38;5;28;01mraise\u001b[39;00m \u001b[38;5;167;01mValueError\u001b[39;00m(\n\u001b[0;32m    681\u001b[0m         \u001b[38;5;124m\"\u001b[39m\u001b[38;5;124mMixing dicts with non-Series may lead to ambiguous ordering.\u001b[39m\u001b[38;5;124m\"\u001b[39m\n\u001b[0;32m    682\u001b[0m     )\n",
      "\u001b[1;31mValueError\u001b[0m: All arrays must be of the same length"
     ]
    }
   ],
   "source": [
    "# Apply the function to calculate rolling values for each variantcombo\n",
    "rolling_results = df.groupby('varaintcombo').apply(calculate_rolling(df)).reset_index(drop=True)\n",
    "#rolling_results\n",
    "#print(rolling_results)"
   ]
  },
  {
   "cell_type": "code",
   "execution_count": 14,
   "id": "f7d37c8e-7ee9-4042-8fbe-c03b9a177bb1",
   "metadata": {},
   "outputs": [
    {
     "data": {
      "text/html": [
       "<div>\n",
       "<style scoped>\n",
       "    .dataframe tbody tr th:only-of-type {\n",
       "        vertical-align: middle;\n",
       "    }\n",
       "\n",
       "    .dataframe tbody tr th {\n",
       "        vertical-align: top;\n",
       "    }\n",
       "\n",
       "    .dataframe thead th {\n",
       "        text-align: right;\n",
       "    }\n",
       "</style>\n",
       "<table border=\"1\" class=\"dataframe\">\n",
       "  <thead>\n",
       "    <tr style=\"text-align: right;\">\n",
       "      <th></th>\n",
       "      <th>varaintcombo</th>\n",
       "      <th>Dates</th>\n",
       "      <th>Sales</th>\n",
       "      <th>Volume</th>\n",
       "      <th>Unit</th>\n",
       "    </tr>\n",
       "  </thead>\n",
       "  <tbody>\n",
       "    <tr>\n",
       "      <th>0</th>\n",
       "      <td>a1</td>\n",
       "      <td>2021-05-01</td>\n",
       "      <td>7818748</td>\n",
       "      <td>10546</td>\n",
       "      <td>741</td>\n",
       "    </tr>\n",
       "    <tr>\n",
       "      <th>1</th>\n",
       "      <td>a1</td>\n",
       "      <td>2021-06-01</td>\n",
       "      <td>2924771</td>\n",
       "      <td>19340</td>\n",
       "      <td>151</td>\n",
       "    </tr>\n",
       "    <tr>\n",
       "      <th>2</th>\n",
       "      <td>a1</td>\n",
       "      <td>2021-07-01</td>\n",
       "      <td>4090707</td>\n",
       "      <td>17243</td>\n",
       "      <td>237</td>\n",
       "    </tr>\n",
       "    <tr>\n",
       "      <th>3</th>\n",
       "      <td>a1</td>\n",
       "      <td>2021-08-01</td>\n",
       "      <td>9726744</td>\n",
       "      <td>17187</td>\n",
       "      <td>566</td>\n",
       "    </tr>\n",
       "    <tr>\n",
       "      <th>4</th>\n",
       "      <td>a1</td>\n",
       "      <td>2021-09-01</td>\n",
       "      <td>6986305</td>\n",
       "      <td>18712</td>\n",
       "      <td>373</td>\n",
       "    </tr>\n",
       "  </tbody>\n",
       "</table>\n",
       "</div>"
      ],
      "text/plain": [
       "  varaintcombo      Dates    Sales  Volume  Unit\n",
       "0           a1 2021-05-01  7818748   10546   741\n",
       "1           a1 2021-06-01  2924771   19340   151\n",
       "2           a1 2021-07-01  4090707   17243   237\n",
       "3           a1 2021-08-01  9726744   17187   566\n",
       "4           a1 2021-09-01  6986305   18712   373"
      ]
     },
     "execution_count": 14,
     "metadata": {},
     "output_type": "execute_result"
    }
   ],
   "source": [
    "#df['variantcombo'].unique()\n",
    "df.head(5)"
   ]
  },
  {
   "cell_type": "code",
   "execution_count": 16,
   "id": "caa3e1ed-5533-4a6b-9a5d-c58fff558706",
   "metadata": {},
   "outputs": [
    {
     "data": {
      "text/plain": [
       "array([ 5,  6,  7,  8,  9, 10, 11, 12,  1,  2,  3,  4])"
      ]
     },
     "execution_count": 16,
     "metadata": {},
     "output_type": "execute_result"
    }
   ],
   "source": [
    "unique_months = df['Dates'].dt.month.unique()\n",
    "unique_months"
   ]
  },
  {
   "cell_type": "code",
   "execution_count": 18,
   "id": "24d89e56-a85b-4447-8c4c-ebfc10830f2c",
   "metadata": {},
   "outputs": [
    {
     "data": {
      "text/plain": [
       "[(0, 5),\n",
       " (1, 6),\n",
       " (2, 7),\n",
       " (3, 8),\n",
       " (4, 9),\n",
       " (5, 10),\n",
       " (6, 11),\n",
       " (7, 12),\n",
       " (8, 1),\n",
       " (9, 2),\n",
       " (10, 3),\n",
       " (11, 4)]"
      ]
     },
     "execution_count": 18,
     "metadata": {},
     "output_type": "execute_result"
    }
   ],
   "source": [
    "list(enumerate(unique_months))"
   ]
  },
  {
   "cell_type": "code",
   "execution_count": 20,
   "id": "9b6a80dd-ad96-4bda-a5a3-d42a71846e19",
   "metadata": {},
   "outputs": [
    {
     "data": {
      "text/plain": [
       "[(0, 'a1'),\n",
       " (1, 'a2'),\n",
       " (2, 'a3'),\n",
       " (3, 'a4'),\n",
       " (4, 'a5'),\n",
       " (5, 'a6'),\n",
       " (6, 'a7'),\n",
       " (7, 'a8'),\n",
       " (8, 'a9'),\n",
       " (9, 'a10'),\n",
       " (10, 'a11'),\n",
       " (11, 'a12')]"
      ]
     },
     "execution_count": 20,
     "metadata": {},
     "output_type": "execute_result"
    }
   ],
   "source": [
    "unique_variants =df['varaintcombo'].unique()\n",
    "list(enumerate(unique_variants))"
   ]
  }
 ],
 "metadata": {
  "kernelspec": {
   "display_name": "Python 3 (ipykernel)",
   "language": "python",
   "name": "python3"
  },
  "language_info": {
   "codemirror_mode": {
    "name": "ipython",
    "version": 3
   },
   "file_extension": ".py",
   "mimetype": "text/x-python",
   "name": "python",
   "nbconvert_exporter": "python",
   "pygments_lexer": "ipython3",
   "version": "3.9.19"
  }
 },
 "nbformat": 4,
 "nbformat_minor": 5
}
